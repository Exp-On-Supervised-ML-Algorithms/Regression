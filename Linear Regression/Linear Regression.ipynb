{
 "cells": [
  {
   "cell_type": "code",
   "execution_count": 14,
   "metadata": {},
   "outputs": [],
   "source": [
    "import pandas as pd\n",
    "import numpy as np\n",
    "import time\n",
    "from sklearn.linear_model import LinearRegression\n",
    "from sklearn import preprocessing\n",
    "import ray\n",
    "import matplotlib as plt\n",
    "from matplotlib import pyplot"
   ]
  },
  {
   "cell_type": "code",
   "execution_count": 8,
   "metadata": {},
   "outputs": [
    {
     "data": {
      "text/html": [
       "<div>\n",
       "<style scoped>\n",
       "    .dataframe tbody tr th:only-of-type {\n",
       "        vertical-align: middle;\n",
       "    }\n",
       "\n",
       "    .dataframe tbody tr th {\n",
       "        vertical-align: top;\n",
       "    }\n",
       "\n",
       "    .dataframe thead th {\n",
       "        text-align: right;\n",
       "    }\n",
       "</style>\n",
       "<table border=\"1\" class=\"dataframe\">\n",
       "  <thead>\n",
       "    <tr style=\"text-align: right;\">\n",
       "      <th></th>\n",
       "      <th>Gmt time</th>\n",
       "      <th>Open</th>\n",
       "      <th>High</th>\n",
       "      <th>Low</th>\n",
       "      <th>Close</th>\n",
       "      <th>Volume</th>\n",
       "    </tr>\n",
       "  </thead>\n",
       "  <tbody>\n",
       "    <tr>\n",
       "      <th>0</th>\n",
       "      <td>03.09.2007 00:00:00.000</td>\n",
       "      <td>0.82127</td>\n",
       "      <td>0.82207</td>\n",
       "      <td>0.82057</td>\n",
       "      <td>0.82157</td>\n",
       "      <td>184.95</td>\n",
       "    </tr>\n",
       "    <tr>\n",
       "      <th>1</th>\n",
       "      <td>03.09.2007 01:00:00.000</td>\n",
       "      <td>0.82147</td>\n",
       "      <td>0.82287</td>\n",
       "      <td>0.82097</td>\n",
       "      <td>0.82237</td>\n",
       "      <td>310.37</td>\n",
       "    </tr>\n",
       "    <tr>\n",
       "      <th>2</th>\n",
       "      <td>03.09.2007 02:00:00.000</td>\n",
       "      <td>0.82227</td>\n",
       "      <td>0.82367</td>\n",
       "      <td>0.82187</td>\n",
       "      <td>0.82267</td>\n",
       "      <td>419.97</td>\n",
       "    </tr>\n",
       "    <tr>\n",
       "      <th>3</th>\n",
       "      <td>03.09.2007 03:00:00.000</td>\n",
       "      <td>0.82287</td>\n",
       "      <td>0.82387</td>\n",
       "      <td>0.82157</td>\n",
       "      <td>0.82327</td>\n",
       "      <td>367.18</td>\n",
       "    </tr>\n",
       "    <tr>\n",
       "      <th>4</th>\n",
       "      <td>03.09.2007 04:00:00.000</td>\n",
       "      <td>0.82337</td>\n",
       "      <td>0.82387</td>\n",
       "      <td>0.82127</td>\n",
       "      <td>0.82157</td>\n",
       "      <td>257.45</td>\n",
       "    </tr>\n",
       "    <tr>\n",
       "      <th>...</th>\n",
       "      <td>...</td>\n",
       "      <td>...</td>\n",
       "      <td>...</td>\n",
       "      <td>...</td>\n",
       "      <td>...</td>\n",
       "      <td>...</td>\n",
       "    </tr>\n",
       "    <tr>\n",
       "      <th>132187</th>\n",
       "      <td>01.10.2022 19:00:00.000</td>\n",
       "      <td>0.64023</td>\n",
       "      <td>0.64023</td>\n",
       "      <td>0.64023</td>\n",
       "      <td>0.64023</td>\n",
       "      <td>0.00</td>\n",
       "    </tr>\n",
       "    <tr>\n",
       "      <th>132188</th>\n",
       "      <td>01.10.2022 20:00:00.000</td>\n",
       "      <td>0.64023</td>\n",
       "      <td>0.64023</td>\n",
       "      <td>0.64023</td>\n",
       "      <td>0.64023</td>\n",
       "      <td>0.00</td>\n",
       "    </tr>\n",
       "    <tr>\n",
       "      <th>132189</th>\n",
       "      <td>01.10.2022 21:00:00.000</td>\n",
       "      <td>0.64023</td>\n",
       "      <td>0.64023</td>\n",
       "      <td>0.64023</td>\n",
       "      <td>0.64023</td>\n",
       "      <td>0.00</td>\n",
       "    </tr>\n",
       "    <tr>\n",
       "      <th>132190</th>\n",
       "      <td>01.10.2022 22:00:00.000</td>\n",
       "      <td>0.64023</td>\n",
       "      <td>0.64023</td>\n",
       "      <td>0.64023</td>\n",
       "      <td>0.64023</td>\n",
       "      <td>0.00</td>\n",
       "    </tr>\n",
       "    <tr>\n",
       "      <th>132191</th>\n",
       "      <td>01.10.2022 23:00:00.000</td>\n",
       "      <td>0.64023</td>\n",
       "      <td>0.64023</td>\n",
       "      <td>0.64023</td>\n",
       "      <td>0.64023</td>\n",
       "      <td>0.00</td>\n",
       "    </tr>\n",
       "  </tbody>\n",
       "</table>\n",
       "<p>132192 rows × 6 columns</p>\n",
       "</div>"
      ],
      "text/plain": [
       "                       Gmt time     Open     High      Low    Close  Volume\n",
       "0       03.09.2007 00:00:00.000  0.82127  0.82207  0.82057  0.82157  184.95\n",
       "1       03.09.2007 01:00:00.000  0.82147  0.82287  0.82097  0.82237  310.37\n",
       "2       03.09.2007 02:00:00.000  0.82227  0.82367  0.82187  0.82267  419.97\n",
       "3       03.09.2007 03:00:00.000  0.82287  0.82387  0.82157  0.82327  367.18\n",
       "4       03.09.2007 04:00:00.000  0.82337  0.82387  0.82127  0.82157  257.45\n",
       "...                         ...      ...      ...      ...      ...     ...\n",
       "132187  01.10.2022 19:00:00.000  0.64023  0.64023  0.64023  0.64023    0.00\n",
       "132188  01.10.2022 20:00:00.000  0.64023  0.64023  0.64023  0.64023    0.00\n",
       "132189  01.10.2022 21:00:00.000  0.64023  0.64023  0.64023  0.64023    0.00\n",
       "132190  01.10.2022 22:00:00.000  0.64023  0.64023  0.64023  0.64023    0.00\n",
       "132191  01.10.2022 23:00:00.000  0.64023  0.64023  0.64023  0.64023    0.00\n",
       "\n",
       "[132192 rows x 6 columns]"
      ]
     },
     "execution_count": 8,
     "metadata": {},
     "output_type": "execute_result"
    }
   ],
   "source": [
    "# Read AUDUSD data file\n",
    "raw_data = pd.read_csv(\"/home/ujwal/Python Program/Exp-On-Supervised-ML-Algorithms /Regression/AUDUSD_Candlestick_1_Hour_BID_03.09.2007-01.10.2022.csv\")\n",
    "raw_data"
   ]
  },
  {
   "cell_type": "code",
   "execution_count": 9,
   "metadata": {},
   "outputs": [
    {
     "data": {
      "text/html": [
       "<div>\n",
       "<style scoped>\n",
       "    .dataframe tbody tr th:only-of-type {\n",
       "        vertical-align: middle;\n",
       "    }\n",
       "\n",
       "    .dataframe tbody tr th {\n",
       "        vertical-align: top;\n",
       "    }\n",
       "\n",
       "    .dataframe thead th {\n",
       "        text-align: right;\n",
       "    }\n",
       "</style>\n",
       "<table border=\"1\" class=\"dataframe\">\n",
       "  <thead>\n",
       "    <tr style=\"text-align: right;\">\n",
       "      <th></th>\n",
       "      <th>Close</th>\n",
       "    </tr>\n",
       "    <tr>\n",
       "      <th>Gmt time</th>\n",
       "      <th></th>\n",
       "    </tr>\n",
       "  </thead>\n",
       "  <tbody>\n",
       "    <tr>\n",
       "      <th>03.09.2007 00:00:00.000</th>\n",
       "      <td>0.82157</td>\n",
       "    </tr>\n",
       "    <tr>\n",
       "      <th>03.09.2007 01:00:00.000</th>\n",
       "      <td>0.82237</td>\n",
       "    </tr>\n",
       "    <tr>\n",
       "      <th>03.09.2007 02:00:00.000</th>\n",
       "      <td>0.82267</td>\n",
       "    </tr>\n",
       "    <tr>\n",
       "      <th>03.09.2007 03:00:00.000</th>\n",
       "      <td>0.82327</td>\n",
       "    </tr>\n",
       "    <tr>\n",
       "      <th>03.09.2007 04:00:00.000</th>\n",
       "      <td>0.82157</td>\n",
       "    </tr>\n",
       "    <tr>\n",
       "      <th>...</th>\n",
       "      <td>...</td>\n",
       "    </tr>\n",
       "    <tr>\n",
       "      <th>01.10.2022 19:00:00.000</th>\n",
       "      <td>0.64023</td>\n",
       "    </tr>\n",
       "    <tr>\n",
       "      <th>01.10.2022 20:00:00.000</th>\n",
       "      <td>0.64023</td>\n",
       "    </tr>\n",
       "    <tr>\n",
       "      <th>01.10.2022 21:00:00.000</th>\n",
       "      <td>0.64023</td>\n",
       "    </tr>\n",
       "    <tr>\n",
       "      <th>01.10.2022 22:00:00.000</th>\n",
       "      <td>0.64023</td>\n",
       "    </tr>\n",
       "    <tr>\n",
       "      <th>01.10.2022 23:00:00.000</th>\n",
       "      <td>0.64023</td>\n",
       "    </tr>\n",
       "  </tbody>\n",
       "</table>\n",
       "<p>132192 rows × 1 columns</p>\n",
       "</div>"
      ],
      "text/plain": [
       "                           Close\n",
       "Gmt time                        \n",
       "03.09.2007 00:00:00.000  0.82157\n",
       "03.09.2007 01:00:00.000  0.82237\n",
       "03.09.2007 02:00:00.000  0.82267\n",
       "03.09.2007 03:00:00.000  0.82327\n",
       "03.09.2007 04:00:00.000  0.82157\n",
       "...                          ...\n",
       "01.10.2022 19:00:00.000  0.64023\n",
       "01.10.2022 20:00:00.000  0.64023\n",
       "01.10.2022 21:00:00.000  0.64023\n",
       "01.10.2022 22:00:00.000  0.64023\n",
       "01.10.2022 23:00:00.000  0.64023\n",
       "\n",
       "[132192 rows x 1 columns]"
      ]
     },
     "execution_count": 9,
     "metadata": {},
     "output_type": "execute_result"
    }
   ],
   "source": [
    "# drop everything except Time and Close information\n",
    "from bleach import clean\n",
    "from matplotlib.pyplot import plot\n",
    "\n",
    "\n",
    "clean_data = raw_data.drop([\"High\", \"Open\", \"Low\", \"Volume\"], axis=1)\n",
    "clean_data = clean_data.set_index('Gmt time')\n",
    "clean_data\n",
    "#clean_data.plot()"
   ]
  },
  {
   "cell_type": "code",
   "execution_count": 11,
   "metadata": {},
   "outputs": [
    {
     "name": "stdout",
     "output_type": "stream",
     "text": [
      "It contains 0 infinite values\n"
     ]
    },
    {
     "data": {
      "text/plain": [
       "Close    0\n",
       "dtype: int64"
      ]
     },
     "execution_count": 11,
     "metadata": {},
     "output_type": "execute_result"
    }
   ],
   "source": [
    "# Checking for inf and null value\n",
    "count = np.isinf(df).values.sum()\n",
    "print(\"It contains \" + str(count) + \" infinite values\")\n",
    "clean_data.isna().sum()"
   ]
  },
  {
   "cell_type": "code",
   "execution_count": 4,
   "metadata": {},
   "outputs": [],
   "source": [
    "# To drop null and inf value if it present\n",
    "#clean_data.replace(-np.inf, np.nan)\n",
    "\n",
    "# Drop row that has all NaN values\n",
    "#df=clean_data.dropna(how='all')\n"
   ]
  },
  {
   "cell_type": "code",
   "execution_count": 24,
   "metadata": {},
   "outputs": [
    {
     "data": {
      "image/png": "[encoded data removed]",
      "text/plain": [
       "<Figure size 432x288 with 1 Axes>"
      ]
     },
     "metadata": {
      "needs_background": "light"
     },
     "output_type": "display_data"
    }
   ],
   "source": [
    "# qqplot shows the value not normally distributed\n",
    "from statsmodels.graphics.gofplots import qqplot\n",
    "\n",
    "# q-qplot\n",
    "qqplot(df.Close, line= 's')\n",
    "pyplot.show()"
   ]
  },
  {
   "cell_type": "code",
   "execution_count": 37,
   "metadata": {},
   "outputs": [
    {
     "name": "stdout",
     "output_type": "stream",
     "text": [
      "statistic=0.938, p=0.000\n",
      "sample deos not look gaussian (reject H0)\n"
     ]
    },
    {
     "name": "stderr",
     "output_type": "stream",
     "text": [
      "/home/ujwal/anaconda3/lib/python3.9/site-packages/scipy/stats/morestats.py:1760: UserWarning: p-value may not be accurate for N > 5000.\n",
      "  warnings.warn(\"p-value may not be accurate for N > 5000.\")\n"
     ]
    }
   ],
   "source": [
    "# Null: Data is normally distributed \n",
    "#Alt: Data is not normally distributed\n",
    "# shapiro-wilk Test\n",
    "from numpy.random import seed\n",
    "from scipy.stats import shapiro\n",
    "# normality test\n",
    "stat, p = shapiro(df)\n",
    "print('statistic=%.3f, p=%.3f' % (stat, p))\n",
    "# interpret\n",
    "alpha = 0.05\n",
    "if p > alpha:\n",
    "    print('Sample looks Gaussian (fail to reject H0)')\n",
    "else:\n",
    "    print('sample deos not look gaussian (reject H0)')\n",
    "\n",
    "# It conferm data is not gaussian or normal distribution"
   ]
  },
  {
   "cell_type": "code",
   "execution_count": 38,
   "metadata": {},
   "outputs": [
    {
     "name": "stderr",
     "output_type": "stream",
     "text": [
      "/home/ujwal/anaconda3/lib/python3.9/site-packages/seaborn/distributions.py:2619: FutureWarning: `distplot` is a deprecated function and will be removed in a future version. Please adapt your code to use either `displot` (a figure-level function with similar flexibility) or `histplot` (an axes-level function for histograms).\n",
      "  warnings.warn(msg, FutureWarning)\n"
     ]
    },
    {
     "data": {
      "text/plain": [
       "<AxesSubplot:xlabel='Close', ylabel='Density'>"
      ]
     },
     "execution_count": 38,
     "metadata": {},
     "output_type": "execute_result"
    },
    {
     "data": {
      "image/png": "[encoded data removed]",
      "text/plain": [
       "<Figure size 432x288 with 1 Axes>"
      ]
     },
     "metadata": {
      "needs_background": "light"
     },
     "output_type": "display_data"
    }
   ],
   "source": [
    "import seaborn as sns\n",
    "log_df = np.log(df.Close)\n",
    "log_df = log_df.diff()\n",
    "sns.distplot(log_df, hist=True, kde=True, color='blue', hist_kws={'edgecolor': 'black'})"
   ]
  },
  {
   "cell_type": "code",
   "execution_count": 39,
   "metadata": {},
   "outputs": [
    {
     "name": "stdout",
     "output_type": "stream",
     "text": [
      "statistic=nan, p=1.000\n",
      "Sample looks Gaussian (fail to reject H0)\n"
     ]
    },
    {
     "name": "stderr",
     "output_type": "stream",
     "text": [
      "/home/ujwal/anaconda3/lib/python3.9/site-packages/scipy/stats/morestats.py:1760: UserWarning: p-value may not be accurate for N > 5000.\n",
      "  warnings.warn(\"p-value may not be accurate for N > 5000.\")\n"
     ]
    }
   ],
   "source": [
    "# Null: Data is normally distributed \n",
    "#Alt: Data is not normally distributed\n",
    "# shapiro-wilk Test\n",
    "from numpy.random import seed\n",
    "from scipy.stats import shapiro\n",
    "# normality test\n",
    "stat, p = shapiro(log_df)\n",
    "print('statistic=%.3f, p=%.3f' % (stat, p))\n",
    "# interpret\n",
    "alpha = 0.05\n",
    "if p > alpha:\n",
    "    print('Sample looks Gaussian (fail to reject H0)')\n",
    "else:\n",
    "    print('sample deos not look gaussian (reject H0)')\n",
    "\n",
    "# It conferm data is not gaussian or normal distribution"
   ]
  },
  {
   "cell_type": "code",
   "execution_count": 41,
   "metadata": {},
   "outputs": [
    {
     "name": "stdout",
     "output_type": "stream",
     "text": [
      "pvalue of adfuller test is:  0.6414140450092467\n"
     ]
    }
   ],
   "source": [
    "# visually data is non stationary\n",
    "# Lets do Dickey-fuller test for conformation\n",
    "# if P<0.05= stationary or it is not stationary\n",
    "from statsmodels.tsa.stattools import adfuller\n",
    "adftest = adfuller(df)\n",
    "print('pvalue of adfuller test is: ', adftest[1])"
   ]
  },
  {
   "cell_type": "code",
   "execution_count": 41,
   "metadata": {},
   "outputs": [
    {
     "data": {
      "text/plain": [
       "<AxesSubplot:xlabel='Gmt time'>"
      ]
     },
     "execution_count": 41,
     "metadata": {},
     "output_type": "execute_result"
    },
    {
     "data": {
      "image/png": "[encoded data removed]",
      "text/plain": [
       "<Figure size 432x288 with 1 Axes>"
      ]
     },
     "metadata": {
      "needs_background": "light"
     },
     "output_type": "display_data"
    }
   ],
   "source": [
    "# Lets try differencing to remove trend\n",
    "df1 = log_df.diff()\n",
    "df1.plot()"
   ]
  },
  {
   "cell_type": "code",
   "execution_count": 51,
   "metadata": {},
   "outputs": [
    {
     "name": "stderr",
     "output_type": "stream",
     "text": [
      "/home/ujwal/anaconda3/lib/python3.9/site-packages/pandas/core/internals/blocks.py:402: RuntimeWarning: divide by zero encountered in log\n",
      "  result = func(self.values, **kwargs)\n",
      "/home/ujwal/anaconda3/lib/python3.9/site-packages/pandas/core/internals/blocks.py:402: RuntimeWarning: invalid value encountered in log\n",
      "  result = func(self.values, **kwargs)\n"
     ]
    },
    {
     "data": {
      "text/plain": [
       "<AxesSubplot:xlabel='Gmt time'>"
      ]
     },
     "execution_count": 51,
     "metadata": {},
     "output_type": "execute_result"
    },
    {
     "data": {
      "image/png": "[encoded data removed]",
      "text/plain": [
       "<Figure size 432x288 with 1 Axes>"
      ]
     },
     "metadata": {
      "needs_background": "light"
     },
     "output_type": "display_data"
    }
   ],
   "source": [
    "df2 = np.log(df1)\n",
    "df2.plot()"
   ]
  },
  {
   "cell_type": "code",
   "execution_count": 48,
   "metadata": {},
   "outputs": [],
   "source": [
    "df1.replace(-np.inf, np.nan)\n",
    "\n",
    "# Drop row that has all NaN values\n",
    "df1=df1.dropna(how='all')\n"
   ]
  },
  {
   "cell_type": "code",
   "execution_count": 46,
   "metadata": {},
   "outputs": [
    {
     "ename": "MissingDataError",
     "evalue": "exog contains inf or nans",
     "output_type": "error",
     "traceback": [
      "\u001b[0;31m---------------------------------------------------------------------------\u001b[0m",
      "\u001b[0;31mMissingDataError\u001b[0m                          Traceback (most recent call last)",
      "\u001b[1;32m/home/ujwal/Python Program/Exp-On-Supervised-ML-Algorithms /Regression/Linear Regression/Linear Regression.ipynb Cell 14\u001b[0m in \u001b[0;36m<cell line: 6>\u001b[0;34m()\u001b[0m\n\u001b[1;32m      <a href='vscode-notebook-cell:/home/ujwal/Python%20Program/Exp-On-Supervised-ML-Algorithms%20/Regression/Linear%20Regression/Linear%20Regression.ipynb#X11sZmlsZQ%3D%3D?line=3'>4</a>\u001b[0m \u001b[39mfrom\u001b[39;00m \u001b[39mstatsmodels\u001b[39;00m\u001b[39m.\u001b[39;00m\u001b[39mtsa\u001b[39;00m\u001b[39m.\u001b[39;00m\u001b[39mstattools\u001b[39;00m \u001b[39mimport\u001b[39;00m adfuller\n\u001b[1;32m      <a href='vscode-notebook-cell:/home/ujwal/Python%20Program/Exp-On-Supervised-ML-Algorithms%20/Regression/Linear%20Regression/Linear%20Regression.ipynb#X11sZmlsZQ%3D%3D?line=4'>5</a>\u001b[0m log_df1 \u001b[39m=\u001b[39m log_df\u001b[39m.\u001b[39mdiff()\n\u001b[0;32m----> <a href='vscode-notebook-cell:/home/ujwal/Python%20Program/Exp-On-Supervised-ML-Algorithms%20/Regression/Linear%20Regression/Linear%20Regression.ipynb#X11sZmlsZQ%3D%3D?line=5'>6</a>\u001b[0m adftest \u001b[39m=\u001b[39m adfuller(log_df1)\n\u001b[1;32m      <a href='vscode-notebook-cell:/home/ujwal/Python%20Program/Exp-On-Supervised-ML-Algorithms%20/Regression/Linear%20Regression/Linear%20Regression.ipynb#X11sZmlsZQ%3D%3D?line=6'>7</a>\u001b[0m \u001b[39mprint\u001b[39m(\u001b[39m'\u001b[39m\u001b[39mpvalue of adfuller test is: \u001b[39m\u001b[39m'\u001b[39m, adftest)\n",
      "File \u001b[0;32m~/anaconda3/lib/python3.9/site-packages/statsmodels/tsa/stattools.py:321\u001b[0m, in \u001b[0;36madfuller\u001b[0;34m(x, maxlag, regression, autolag, store, regresults)\u001b[0m\n\u001b[1;32m    315\u001b[0m \u001b[39m# 1 for level\u001b[39;00m\n\u001b[1;32m    316\u001b[0m \u001b[39m# search for lag length with smallest information criteria\u001b[39;00m\n\u001b[1;32m    317\u001b[0m \u001b[39m# Note: use the same number of observations to have comparable IC\u001b[39;00m\n\u001b[1;32m    318\u001b[0m \u001b[39m# aic and bic: smaller is better\u001b[39;00m\n\u001b[1;32m    320\u001b[0m \u001b[39mif\u001b[39;00m \u001b[39mnot\u001b[39;00m regresults:\n\u001b[0;32m--> 321\u001b[0m     icbest, bestlag \u001b[39m=\u001b[39m _autolag(\n\u001b[1;32m    322\u001b[0m         OLS, xdshort, fullRHS, startlag, maxlag, autolag\n\u001b[1;32m    323\u001b[0m     )\n\u001b[1;32m    324\u001b[0m \u001b[39melse\u001b[39;00m:\n\u001b[1;32m    325\u001b[0m     icbest, bestlag, alres \u001b[39m=\u001b[39m _autolag(\n\u001b[1;32m    326\u001b[0m         OLS,\n\u001b[1;32m    327\u001b[0m         xdshort,\n\u001b[0;32m   (...)\u001b[0m\n\u001b[1;32m    332\u001b[0m         regresults\u001b[39m=\u001b[39mregresults,\n\u001b[1;32m    333\u001b[0m     )\n",
      "File \u001b[0;32m~/anaconda3/lib/python3.9/site-packages/statsmodels/tsa/stattools.py:129\u001b[0m, in \u001b[0;36m_autolag\u001b[0;34m(mod, endog, exog, startlag, maxlag, method, modargs, fitargs, regresults)\u001b[0m\n\u001b[1;32m    127\u001b[0m method \u001b[39m=\u001b[39m method\u001b[39m.\u001b[39mlower()\n\u001b[1;32m    128\u001b[0m \u001b[39mfor\u001b[39;00m lag \u001b[39min\u001b[39;00m \u001b[39mrange\u001b[39m(startlag, startlag \u001b[39m+\u001b[39m maxlag \u001b[39m+\u001b[39m \u001b[39m1\u001b[39m):\n\u001b[0;32m--> 129\u001b[0m     mod_instance \u001b[39m=\u001b[39m mod(endog, exog[:, :lag], \u001b[39m*\u001b[39;49mmodargs)\n\u001b[1;32m    130\u001b[0m     results[lag] \u001b[39m=\u001b[39m mod_instance\u001b[39m.\u001b[39mfit()\n\u001b[1;32m    132\u001b[0m \u001b[39mif\u001b[39;00m method \u001b[39m==\u001b[39m \u001b[39m\"\u001b[39m\u001b[39maic\u001b[39m\u001b[39m\"\u001b[39m:\n",
      "File \u001b[0;32m~/anaconda3/lib/python3.9/site-packages/statsmodels/regression/linear_model.py:890\u001b[0m, in \u001b[0;36mOLS.__init__\u001b[0;34m(self, endog, exog, missing, hasconst, **kwargs)\u001b[0m\n\u001b[1;32m    887\u001b[0m     msg \u001b[39m=\u001b[39m (\u001b[39m\"\u001b[39m\u001b[39mWeights are not supported in OLS and will be ignored\u001b[39m\u001b[39m\"\u001b[39m\n\u001b[1;32m    888\u001b[0m            \u001b[39m\"\u001b[39m\u001b[39mAn exception will be raised in the next version.\u001b[39m\u001b[39m\"\u001b[39m)\n\u001b[1;32m    889\u001b[0m     warnings\u001b[39m.\u001b[39mwarn(msg, ValueWarning)\n\u001b[0;32m--> 890\u001b[0m \u001b[39msuper\u001b[39;49m(OLS, \u001b[39mself\u001b[39;49m)\u001b[39m.\u001b[39;49m\u001b[39m__init__\u001b[39;49m(endog, exog, missing\u001b[39m=\u001b[39;49mmissing,\n\u001b[1;32m    891\u001b[0m                           hasconst\u001b[39m=\u001b[39;49mhasconst, \u001b[39m*\u001b[39;49m\u001b[39m*\u001b[39;49mkwargs)\n\u001b[1;32m    892\u001b[0m \u001b[39mif\u001b[39;00m \u001b[39m\"\u001b[39m\u001b[39mweights\u001b[39m\u001b[39m\"\u001b[39m \u001b[39min\u001b[39;00m \u001b[39mself\u001b[39m\u001b[39m.\u001b[39m_init_keys:\n\u001b[1;32m    893\u001b[0m     \u001b[39mself\u001b[39m\u001b[39m.\u001b[39m_init_keys\u001b[39m.\u001b[39mremove(\u001b[39m\"\u001b[39m\u001b[39mweights\u001b[39m\u001b[39m\"\u001b[39m)\n",
      "File \u001b[0;32m~/anaconda3/lib/python3.9/site-packages/statsmodels/regression/linear_model.py:717\u001b[0m, in \u001b[0;36mWLS.__init__\u001b[0;34m(self, endog, exog, weights, missing, hasconst, **kwargs)\u001b[0m\n\u001b[1;32m    715\u001b[0m \u001b[39melse\u001b[39;00m:\n\u001b[1;32m    716\u001b[0m     weights \u001b[39m=\u001b[39m weights\u001b[39m.\u001b[39msqueeze()\n\u001b[0;32m--> 717\u001b[0m \u001b[39msuper\u001b[39;49m(WLS, \u001b[39mself\u001b[39;49m)\u001b[39m.\u001b[39;49m\u001b[39m__init__\u001b[39;49m(endog, exog, missing\u001b[39m=\u001b[39;49mmissing,\n\u001b[1;32m    718\u001b[0m                           weights\u001b[39m=\u001b[39;49mweights, hasconst\u001b[39m=\u001b[39;49mhasconst, \u001b[39m*\u001b[39;49m\u001b[39m*\u001b[39;49mkwargs)\n\u001b[1;32m    719\u001b[0m nobs \u001b[39m=\u001b[39m \u001b[39mself\u001b[39m\u001b[39m.\u001b[39mexog\u001b[39m.\u001b[39mshape[\u001b[39m0\u001b[39m]\n\u001b[1;32m    720\u001b[0m weights \u001b[39m=\u001b[39m \u001b[39mself\u001b[39m\u001b[39m.\u001b[39mweights\n",
      "File \u001b[0;32m~/anaconda3/lib/python3.9/site-packages/statsmodels/regression/linear_model.py:191\u001b[0m, in \u001b[0;36mRegressionModel.__init__\u001b[0;34m(self, endog, exog, **kwargs)\u001b[0m\n\u001b[1;32m    190\u001b[0m \u001b[39mdef\u001b[39;00m \u001b[39m__init__\u001b[39m(\u001b[39mself\u001b[39m, endog, exog, \u001b[39m*\u001b[39m\u001b[39m*\u001b[39mkwargs):\n\u001b[0;32m--> 191\u001b[0m     \u001b[39msuper\u001b[39;49m(RegressionModel, \u001b[39mself\u001b[39;49m)\u001b[39m.\u001b[39;49m\u001b[39m__init__\u001b[39;49m(endog, exog, \u001b[39m*\u001b[39;49m\u001b[39m*\u001b[39;49mkwargs)\n\u001b[1;32m    192\u001b[0m     \u001b[39mself\u001b[39m\u001b[39m.\u001b[39m_data_attr\u001b[39m.\u001b[39mextend([\u001b[39m'\u001b[39m\u001b[39mpinv_wexog\u001b[39m\u001b[39m'\u001b[39m, \u001b[39m'\u001b[39m\u001b[39mwendog\u001b[39m\u001b[39m'\u001b[39m, \u001b[39m'\u001b[39m\u001b[39mwexog\u001b[39m\u001b[39m'\u001b[39m, \u001b[39m'\u001b[39m\u001b[39mweights\u001b[39m\u001b[39m'\u001b[39m])\n",
      "File \u001b[0;32m~/anaconda3/lib/python3.9/site-packages/statsmodels/base/model.py:267\u001b[0m, in \u001b[0;36mLikelihoodModel.__init__\u001b[0;34m(self, endog, exog, **kwargs)\u001b[0m\n\u001b[1;32m    266\u001b[0m \u001b[39mdef\u001b[39;00m \u001b[39m__init__\u001b[39m(\u001b[39mself\u001b[39m, endog, exog\u001b[39m=\u001b[39m\u001b[39mNone\u001b[39;00m, \u001b[39m*\u001b[39m\u001b[39m*\u001b[39mkwargs):\n\u001b[0;32m--> 267\u001b[0m     \u001b[39msuper\u001b[39;49m()\u001b[39m.\u001b[39;49m\u001b[39m__init__\u001b[39;49m(endog, exog, \u001b[39m*\u001b[39;49m\u001b[39m*\u001b[39;49mkwargs)\n\u001b[1;32m    268\u001b[0m     \u001b[39mself\u001b[39m\u001b[39m.\u001b[39minitialize()\n",
      "File \u001b[0;32m~/anaconda3/lib/python3.9/site-packages/statsmodels/base/model.py:92\u001b[0m, in \u001b[0;36mModel.__init__\u001b[0;34m(self, endog, exog, **kwargs)\u001b[0m\n\u001b[1;32m     90\u001b[0m missing \u001b[39m=\u001b[39m kwargs\u001b[39m.\u001b[39mpop(\u001b[39m'\u001b[39m\u001b[39mmissing\u001b[39m\u001b[39m'\u001b[39m, \u001b[39m'\u001b[39m\u001b[39mnone\u001b[39m\u001b[39m'\u001b[39m)\n\u001b[1;32m     91\u001b[0m hasconst \u001b[39m=\u001b[39m kwargs\u001b[39m.\u001b[39mpop(\u001b[39m'\u001b[39m\u001b[39mhasconst\u001b[39m\u001b[39m'\u001b[39m, \u001b[39mNone\u001b[39;00m)\n\u001b[0;32m---> 92\u001b[0m \u001b[39mself\u001b[39m\u001b[39m.\u001b[39mdata \u001b[39m=\u001b[39m \u001b[39mself\u001b[39;49m\u001b[39m.\u001b[39;49m_handle_data(endog, exog, missing, hasconst,\n\u001b[1;32m     93\u001b[0m                               \u001b[39m*\u001b[39;49m\u001b[39m*\u001b[39;49mkwargs)\n\u001b[1;32m     94\u001b[0m \u001b[39mself\u001b[39m\u001b[39m.\u001b[39mk_constant \u001b[39m=\u001b[39m \u001b[39mself\u001b[39m\u001b[39m.\u001b[39mdata\u001b[39m.\u001b[39mk_constant\n\u001b[1;32m     95\u001b[0m \u001b[39mself\u001b[39m\u001b[39m.\u001b[39mexog \u001b[39m=\u001b[39m \u001b[39mself\u001b[39m\u001b[39m.\u001b[39mdata\u001b[39m.\u001b[39mexog\n",
      "File \u001b[0;32m~/anaconda3/lib/python3.9/site-packages/statsmodels/base/model.py:132\u001b[0m, in \u001b[0;36mModel._handle_data\u001b[0;34m(self, endog, exog, missing, hasconst, **kwargs)\u001b[0m\n\u001b[1;32m    131\u001b[0m \u001b[39mdef\u001b[39;00m \u001b[39m_handle_data\u001b[39m(\u001b[39mself\u001b[39m, endog, exog, missing, hasconst, \u001b[39m*\u001b[39m\u001b[39m*\u001b[39mkwargs):\n\u001b[0;32m--> 132\u001b[0m     data \u001b[39m=\u001b[39m handle_data(endog, exog, missing, hasconst, \u001b[39m*\u001b[39;49m\u001b[39m*\u001b[39;49mkwargs)\n\u001b[1;32m    133\u001b[0m     \u001b[39m# kwargs arrays could have changed, easier to just attach here\u001b[39;00m\n\u001b[1;32m    134\u001b[0m     \u001b[39mfor\u001b[39;00m key \u001b[39min\u001b[39;00m kwargs:\n",
      "File \u001b[0;32m~/anaconda3/lib/python3.9/site-packages/statsmodels/base/data.py:673\u001b[0m, in \u001b[0;36mhandle_data\u001b[0;34m(endog, exog, missing, hasconst, **kwargs)\u001b[0m\n\u001b[1;32m    670\u001b[0m     exog \u001b[39m=\u001b[39m np\u001b[39m.\u001b[39masarray(exog)\n\u001b[1;32m    672\u001b[0m klass \u001b[39m=\u001b[39m handle_data_class_factory(endog, exog)\n\u001b[0;32m--> 673\u001b[0m \u001b[39mreturn\u001b[39;00m klass(endog, exog\u001b[39m=\u001b[39;49mexog, missing\u001b[39m=\u001b[39;49mmissing, hasconst\u001b[39m=\u001b[39;49mhasconst,\n\u001b[1;32m    674\u001b[0m              \u001b[39m*\u001b[39;49m\u001b[39m*\u001b[39;49mkwargs)\n",
      "File \u001b[0;32m~/anaconda3/lib/python3.9/site-packages/statsmodels/base/data.py:86\u001b[0m, in \u001b[0;36mModelData.__init__\u001b[0;34m(self, endog, exog, missing, hasconst, **kwargs)\u001b[0m\n\u001b[1;32m     84\u001b[0m \u001b[39mself\u001b[39m\u001b[39m.\u001b[39mconst_idx \u001b[39m=\u001b[39m \u001b[39mNone\u001b[39;00m\n\u001b[1;32m     85\u001b[0m \u001b[39mself\u001b[39m\u001b[39m.\u001b[39mk_constant \u001b[39m=\u001b[39m \u001b[39m0\u001b[39m\n\u001b[0;32m---> 86\u001b[0m \u001b[39mself\u001b[39;49m\u001b[39m.\u001b[39;49m_handle_constant(hasconst)\n\u001b[1;32m     87\u001b[0m \u001b[39mself\u001b[39m\u001b[39m.\u001b[39m_check_integrity()\n\u001b[1;32m     88\u001b[0m \u001b[39mself\u001b[39m\u001b[39m.\u001b[39m_cache \u001b[39m=\u001b[39m {}\n",
      "File \u001b[0;32m~/anaconda3/lib/python3.9/site-packages/statsmodels/base/data.py:132\u001b[0m, in \u001b[0;36mModelData._handle_constant\u001b[0;34m(self, hasconst)\u001b[0m\n\u001b[1;32m    130\u001b[0m exog_max \u001b[39m=\u001b[39m np\u001b[39m.\u001b[39mmax(\u001b[39mself\u001b[39m\u001b[39m.\u001b[39mexog, axis\u001b[39m=\u001b[39m\u001b[39m0\u001b[39m)\n\u001b[1;32m    131\u001b[0m \u001b[39mif\u001b[39;00m \u001b[39mnot\u001b[39;00m np\u001b[39m.\u001b[39misfinite(exog_max)\u001b[39m.\u001b[39mall():\n\u001b[0;32m--> 132\u001b[0m     \u001b[39mraise\u001b[39;00m MissingDataError(\u001b[39m'\u001b[39m\u001b[39mexog contains inf or nans\u001b[39m\u001b[39m'\u001b[39m)\n\u001b[1;32m    133\u001b[0m exog_min \u001b[39m=\u001b[39m np\u001b[39m.\u001b[39mmin(\u001b[39mself\u001b[39m\u001b[39m.\u001b[39mexog, axis\u001b[39m=\u001b[39m\u001b[39m0\u001b[39m)\n\u001b[1;32m    134\u001b[0m const_idx \u001b[39m=\u001b[39m np\u001b[39m.\u001b[39mwhere(exog_max \u001b[39m==\u001b[39m exog_min)[\u001b[39m0\u001b[39m]\u001b[39m.\u001b[39msqueeze()\n",
      "\u001b[0;31mMissingDataError\u001b[0m: exog contains inf or nans"
     ]
    }
   ],
   "source": [
    "# visually data is non stationary\n",
    "# Lets do Dickey-fuller test for conformation\n",
    "# if P<0.05= stationary or it is not stationary\n",
    "from statsmodels.tsa.stattools import adfuller\n",
    "log_df1 = log_df.diff()\n",
    "adftest = adfuller(log_df1)\n",
    "print('pvalue of adfuller test is: ', adftest)"
   ]
  },
  {
   "cell_type": "code",
   "execution_count": 43,
   "metadata": {},
   "outputs": [
    {
     "name": "stdout",
     "output_type": "stream",
     "text": [
      "It contains 0 infinite values\n"
     ]
    },
    {
     "data": {
      "text/plain": [
       "Close    0\n",
       "dtype: int64"
      ]
     },
     "execution_count": 43,
     "metadata": {},
     "output_type": "execute_result"
    }
   ],
   "source": [
    "# Checking for inf and null value\n",
    "count = np.isinf(log_df).values.sum()\n",
    "print(\"It contains \" + str(count) + \" infinite values\")\n",
    "clean_data.isna().sum()"
   ]
  },
  {
   "cell_type": "code",
   "execution_count": 8,
   "metadata": {},
   "outputs": [
    {
     "ename": "AttributeError",
     "evalue": "'Series' object has no attribute 'np'",
     "output_type": "error",
     "traceback": [
      "\u001b[0;31m---------------------------------------------------------------------------\u001b[0m",
      "\u001b[0;31mAttributeError\u001b[0m                            Traceback (most recent call last)",
      "\u001b[1;32m/home/ujwal/Python Program/Exp-On-Supervised-ML-Algorithms /Regression/Linear Regression/Linear Regression.ipynb Cell 4\u001b[0m in \u001b[0;36m<cell line: 2>\u001b[0;34m()\u001b[0m\n\u001b[1;32m      <a href='vscode-notebook-cell:/home/ujwal/Python%20Program/Exp-On-Supervised-ML-Algorithms%20/Regression/Linear%20Regression/Linear%20Regression.ipynb#W3sZmlsZQ%3D%3D?line=0'>1</a>\u001b[0m \u001b[39m# It deosn't make that much difference by normalizing it, still lets do it.\u001b[39;00m\n\u001b[0;32m----> <a href='vscode-notebook-cell:/home/ujwal/Python%20Program/Exp-On-Supervised-ML-Algorithms%20/Regression/Linear%20Regression/Linear%20Regression.ipynb#W3sZmlsZQ%3D%3D?line=1'>2</a>\u001b[0m clean_data \u001b[39m=\u001b[39m clean_data[\u001b[39m\"\u001b[39;49m\u001b[39mClose\u001b[39;49m\u001b[39m\"\u001b[39;49m]\u001b[39m.\u001b[39;49mnp\u001b[39m.\u001b[39mreshape(\u001b[39m-\u001b[39m\u001b[39m1\u001b[39m, \u001b[39m1\u001b[39m)\n\u001b[1;32m      <a href='vscode-notebook-cell:/home/ujwal/Python%20Program/Exp-On-Supervised-ML-Algorithms%20/Regression/Linear%20Regression/Linear%20Regression.ipynb#W3sZmlsZQ%3D%3D?line=2'>3</a>\u001b[0m normalized_data \u001b[39m=\u001b[39m preprocessing\u001b[39m.\u001b[39mnormalize(clean_data[\u001b[39m\"\u001b[39m\u001b[39mClose\u001b[39m\u001b[39m\"\u001b[39m])\n\u001b[1;32m      <a href='vscode-notebook-cell:/home/ujwal/Python%20Program/Exp-On-Supervised-ML-Algorithms%20/Regression/Linear%20Regression/Linear%20Regression.ipynb#W3sZmlsZQ%3D%3D?line=3'>4</a>\u001b[0m \u001b[39mprint\u001b[39m(\u001b[39m\"\u001b[39m\u001b[39mNormalized Data = \u001b[39m\u001b[39m\"\u001b[39m, normalized_data)\n",
      "File \u001b[0;32m~/anaconda3/lib/python3.9/site-packages/pandas/core/generic.py:5575\u001b[0m, in \u001b[0;36mNDFrame.__getattr__\u001b[0;34m(self, name)\u001b[0m\n\u001b[1;32m   5568\u001b[0m \u001b[39mif\u001b[39;00m (\n\u001b[1;32m   5569\u001b[0m     name \u001b[39mnot\u001b[39;00m \u001b[39min\u001b[39;00m \u001b[39mself\u001b[39m\u001b[39m.\u001b[39m_internal_names_set\n\u001b[1;32m   5570\u001b[0m     \u001b[39mand\u001b[39;00m name \u001b[39mnot\u001b[39;00m \u001b[39min\u001b[39;00m \u001b[39mself\u001b[39m\u001b[39m.\u001b[39m_metadata\n\u001b[1;32m   5571\u001b[0m     \u001b[39mand\u001b[39;00m name \u001b[39mnot\u001b[39;00m \u001b[39min\u001b[39;00m \u001b[39mself\u001b[39m\u001b[39m.\u001b[39m_accessors\n\u001b[1;32m   5572\u001b[0m     \u001b[39mand\u001b[39;00m \u001b[39mself\u001b[39m\u001b[39m.\u001b[39m_info_axis\u001b[39m.\u001b[39m_can_hold_identifiers_and_holds_name(name)\n\u001b[1;32m   5573\u001b[0m ):\n\u001b[1;32m   5574\u001b[0m     \u001b[39mreturn\u001b[39;00m \u001b[39mself\u001b[39m[name]\n\u001b[0;32m-> 5575\u001b[0m \u001b[39mreturn\u001b[39;00m \u001b[39mobject\u001b[39;49m\u001b[39m.\u001b[39;49m\u001b[39m__getattribute__\u001b[39;49m(\u001b[39mself\u001b[39;49m, name)\n",
      "\u001b[0;31mAttributeError\u001b[0m: 'Series' object has no attribute 'np'"
     ]
    }
   ],
   "source": [
    "# It deosn't make that much difference by normalizing it, still lets do it.\n",
    "clean_data = clean_data[\"Close\"].np.reshape(-1, 1)\n",
    "normalized_data = preprocessing.normalize(clean_data[\"Close\"])\n",
    "print(\"Normalized Data = \", normalized_data)\n",
    "clean_data.plot()"
   ]
  },
  {
   "cell_type": "code",
   "execution_count": null,
   "metadata": {},
   "outputs": [],
   "source": [
    "# Make data stationary\n"
   ]
  },
  {
   "cell_type": "code",
   "execution_count": null,
   "metadata": {},
   "outputs": [],
   "source": [
    "# Use Standardization or normalization\n"
   ]
  },
  {
   "cell_type": "code",
   "execution_count": null,
   "metadata": {},
   "outputs": [],
   "source": [
    "# Split dataset to train, val, test as 70%-15%-15%\n"
   ]
  },
  {
   "cell_type": "code",
   "execution_count": null,
   "metadata": {},
   "outputs": [
    {
     "ename": "SyntaxError",
     "evalue": "invalid syntax (890996178.py, line 2)",
     "output_type": "error",
     "traceback": [
      "\u001b[0;36m  Input \u001b[0;32mIn [27]\u001b[0;36m\u001b[0m\n\u001b[0;31m    model = sklearn.linear_model.LinearRegression(*, fit_intercept=True, normalize='deprecated', copy_X=True, n_jobs=None, positive=False)\u001b[0m\n\u001b[0m                                                   ^\u001b[0m\n\u001b[0;31mSyntaxError\u001b[0m\u001b[0;31m:\u001b[0m invalid syntax\n"
     ]
    }
   ],
   "source": [
    "# Initialize the algorithm\n",
    "model = LinearRegression(*, fit_intercept=True, normalize='deprecated', copy_X=True, n_jobs=None, positive=False)"
   ]
  },
  {
   "cell_type": "code",
   "execution_count": null,
   "metadata": {},
   "outputs": [
    {
     "ename": "AttributeError",
     "evalue": "module 'ray' has no attribute 'tune'",
     "output_type": "error",
     "traceback": [
      "\u001b[0;31m---------------------------------------------------------------------------\u001b[0m",
      "\u001b[0;31mAttributeError\u001b[0m                            Traceback (most recent call last)",
      "\u001b[1;32m/home/ujwal/Python Program/Exp-On-Supervised-ML-Algorithms /Regression/Linear Regression/Linear Regression.ipynb Cell 9\u001b[0m in \u001b[0;36m<cell line: 2>\u001b[0;34m()\u001b[0m\n\u001b[1;32m      <a href='vscode-notebook-cell:/home/ujwal/Python%20Program/Exp-On-Supervised-ML-Algorithms%20/Regression/Linear%20Regression/Linear%20Regression.ipynb#X11sZmlsZQ%3D%3D?line=0'>1</a>\u001b[0m \u001b[39m# Tune the linear regression parameter \u001b[39;00m\n\u001b[0;32m----> <a href='vscode-notebook-cell:/home/ujwal/Python%20Program/Exp-On-Supervised-ML-Algorithms%20/Regression/Linear%20Regression/Linear%20Regression.ipynb#X11sZmlsZQ%3D%3D?line=1'>2</a>\u001b[0m ray\u001b[39m.\u001b[39;49mtune\u001b[39m.\u001b[39msklearn\u001b[39m.\u001b[39mTuneGridSearchCV(estimator, param_grid, early_stopping\u001b[39m=\u001b[39m\u001b[39mNone\u001b[39;00m, scoring\u001b[39m=\u001b[39m\u001b[39mNone\u001b[39;00m, n_jobs\u001b[39m=\u001b[39m\u001b[39mNone\u001b[39;00m, cv\u001b[39m=\u001b[39m\u001b[39m5\u001b[39m, refit\u001b[39m=\u001b[39m\u001b[39mTrue\u001b[39;00m,\n\u001b[1;32m      <a href='vscode-notebook-cell:/home/ujwal/Python%20Program/Exp-On-Supervised-ML-Algorithms%20/Regression/Linear%20Regression/Linear%20Regression.ipynb#X11sZmlsZQ%3D%3D?line=2'>3</a>\u001b[0m  verbose\u001b[39m=\u001b[39m\u001b[39m0\u001b[39m, error_score\u001b[39m=\u001b[39m\u001b[39m'\u001b[39m\u001b[39mraise\u001b[39m\u001b[39m'\u001b[39m, return_train_score\u001b[39m=\u001b[39m\u001b[39mFalse\u001b[39;00m, local_dir\u001b[39m=\u001b[39m\u001b[39m'\u001b[39m\u001b[39m~/ray_results\u001b[39m\u001b[39m'\u001b[39m,\n\u001b[1;32m      <a href='vscode-notebook-cell:/home/ujwal/Python%20Program/Exp-On-Supervised-ML-Algorithms%20/Regression/Linear%20Regression/Linear%20Regression.ipynb#X11sZmlsZQ%3D%3D?line=3'>4</a>\u001b[0m  name\u001b[39m=\u001b[39m\u001b[39mNone\u001b[39;00m, max_iters\u001b[39m=\u001b[39m\u001b[39m1\u001b[39m, use_gpu\u001b[39m=\u001b[39m\u001b[39mFalse\u001b[39;00m, loggers\u001b[39m=\u001b[39m\u001b[39mNone\u001b[39;00m, pipeline_auto_early_stop\u001b[39m=\u001b[39m\u001b[39mTrue\u001b[39;00m, stopper\u001b[39m=\u001b[39m\u001b[39mNone\u001b[39;00m, time_budget_s\u001b[39m=\u001b[39m\u001b[39mNone\u001b[39;00m, sk_n_jobs\u001b[39m=\u001b[39m\u001b[39mNone\u001b[39;00m, mode\u001b[39m=\u001b[39m\u001b[39mNone\u001b[39;00m)\n",
      "\u001b[0;31mAttributeError\u001b[0m: module 'ray' has no attribute 'tune'"
     ]
    }
   ],
   "source": [
    "# Tune the linear regression parameter \n",
    "#ray.tune.sklearn.TuneGridSearchCV(estimator, param_grid, early_stopping=None, scoring=None, n_jobs=None, cv=5, refit=True,\n",
    "# verbose=0, error_score='raise', return_train_score=False, local_dir='~/ray_results',\n",
    "# name=None, max_iters=1, use_gpu=False, loggers=None, pipeline_auto_early_stop=True, stopper=None, time_budget_s=None, sk_n_jobs=None, mode=None)\n",
    "\n",
    "parameter_grid = {\"fit_intercept\": (True, False), \"copy_X\": (True, False), \"positive\": (True, False) }\n",
    "sklearn_search = GridSearchCV(LinearRegression(), parameter_grid, n_jobs=n_jobs)\n",
    "\n",
    "start = time.time()\n",
    "sklearn_search.fit(x_train, y_train)\n",
    "end = time.time()\n",
    "print(\"Sklearn Fit Time:\", end - start)\n",
    "print(sklearn_search.best_params_)\n",
    "# Sklearn Fit Time: 47.48055911064148 (for an 8 core laptop)\n",
    "\n",
    "\n",
    "#digits = datasets.load_digits()\n",
    "#x = digits.data\n",
    "#y = digits.target\n",
    "#x_train, x_test, y_train, y_test = train_test_split(x, y, test_size=0.2)\n",
    "\n",
    "#clf = SGDClassifier()\n",
    "\n",
    "#tune_search = TuneSearchCV(\n",
    "#    clf,\n",
    "#    parameter_grid,\n",
    "#    search_optimization=\"bayesian\",\n",
    "#    n_trials=3,\n",
    "#    early_stopping=True,\n",
    "#    max_iters=10,\n",
    "#)\n",
    "#tune_search.fit(x_train, y_train)\n",
    "#print(tune_search.best_params_)\n",
    "# {'alpha': 0.37460266483547777, 'epsilon': 0.09556428757689246}"
   ]
  },
  {
   "cell_type": "code",
   "execution_count": null,
   "metadata": {},
   "outputs": [],
   "source": [
    "# Train the algorithm\n"
   ]
  },
  {
   "cell_type": "code",
   "execution_count": null,
   "metadata": {},
   "outputs": [],
   "source": [
    "# Check mse using Linear regression\n"
   ]
  },
  {
   "cell_type": "code",
   "execution_count": null,
   "metadata": {},
   "outputs": [],
   "source": [
    "# save model using pickle\n"
   ]
  },
  {
   "cell_type": "code",
   "execution_count": null,
   "metadata": {},
   "outputs": [],
   "source": [
    "# Reload model show performance graph\n"
   ]
  }
 ],
 "metadata": {
  "kernelspec": {
   "display_name": "Python 3.9.12 ('base')",
   "language": "python",
   "name": "python3"
  },
  "language_info": {
   "codemirror_mode": {
    "name": "ipython",
    "version": 3
   },
   "file_extension": ".py",
   "mimetype": "text/x-python",
   "name": "python",
   "nbconvert_exporter": "python",
   "pygments_lexer": "ipython3",
   "version": "3.9.12"
  },
  "orig_nbformat": 4,
  "vscode": {
   "interpreter": {
    "hash": "66a19ea5f20bc52e6cb3c92a7c78abc463452fe56590fefcffb22eb4ed19e131"
   }
  }
 },
 "nbformat": 4,
 "nbformat_minor": 2
}
